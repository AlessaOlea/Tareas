{
  "nbformat": 4,
  "nbformat_minor": 0,
  "metadata": {
    "colab": {
      "provenance": [],
      "include_colab_link": true
    },
    "kernelspec": {
      "name": "python3",
      "display_name": "Python 3"
    },
    "language_info": {
      "name": "python"
    }
  },
  "cells": [
    {
      "cell_type": "markdown",
      "metadata": {
        "id": "view-in-github",
        "colab_type": "text"
      },
      "source": [
        "<a href=\"https://colab.research.google.com/github/AlessaOlea/Tareas/blob/main/Clase_21_Noviembre_.ipynb\" target=\"_parent\"><img src=\"https://colab.research.google.com/assets/colab-badge.svg\" alt=\"Open In Colab\"/></a>"
      ]
    },
    {
      "cell_type": "code",
      "execution_count": 1,
      "metadata": {
        "id": "vOhpORZE4jS8"
      },
      "outputs": [],
      "source": [
        "import numpy as np\n",
        "import matplotlib.pyplot as plt\n",
        "import imageio.v2 as imageio"
      ]
    },
    {
      "cell_type": "code",
      "source": [
        "#Parametros del modelo\n",
        "size = 103\n",
        "pos = round(size/2)\n",
        "B = np.zeros(size,dtype = int)\n",
        "B[pos] = 1 #Condicion inicial"
      ],
      "metadata": {
        "id": "6PgsKPWN4r4T"
      },
      "execution_count": 2,
      "outputs": []
    },
    {
      "cell_type": "code",
      "source": [
        "class Automata1D:\n",
        "  def __init__(self,B,name): #Usaremos self ya que hace referencia a si mismo constantemente y name porque definiremos otra clase\n",
        "    self.B = B #Guarda la variable B\n",
        "    self.name = name #Guarda el nombre que se le de o la regla\n",
        "    self.size = len(self.B) #Tamaño\n",
        "    self.frames = [] #Lista donde se guardan las imagenes generadas para hacer la simulacion\n",
        "    self.nsteps = self .size #Cantidad de veces que se hace la linea anterior\n",
        "\n",
        "  def Rule104(self, L, C, R): #Usamos self ya que la clase se hace referencia a si mismo constantemente\n",
        "  #L = Left, C = Central y R = right\n",
        "  #Definimos las reglas de los automatas\n",
        "    if L == 1 and C == 0 and R == 0:\n",
        "      return 1\n",
        "    elif L == 0 and C == 1 and R == 0:\n",
        "      return 1\n",
        "    elif L == 0 and C == 0 and R == 1:\n",
        "      return 1\n",
        "    else:\n",
        "      return 0\n",
        "\n",
        "  def plot(self,C): #Crear la figura de cada paso\n",
        "    fig,ax = plt.subplots(figsize = (8,6))\n",
        "    ax.imshow(C, animated = True, aspect = \"auto\", cmap = \"gray\") #ASpect auto es para que se modifique a si misma\n",
        "    # cmap gray es para que 1 sea blanco y 0 sea negro\n",
        "    ax.axis(\"off\") #Quitamos los ejes\n",
        "    plt.close(fig) #Cerrar el canvas para que no se muestre\n",
        "\n",
        "    #Convertimos la figura en imagen y guardamos los frames\n",
        "    fig.canvas.draw()\n",
        "    image = np.frombuffer(fig.canvas.tostring_rgb(), dtype = np.uint8)\n",
        "    image = image.reshape(fig.canvas.get_width_height()[::-1] + (3,))\n",
        "    return image\n",
        "\n",
        "  def Run(self): #creamos la matriz donde se correrá todo\n",
        "    C = np.zeros((self.size, self.size), dtype = int) #Matriz de pixeles para la simulacion\n",
        "    A = np.copy(self.B) #Vector condicion inicial\n",
        "    for k in range(self.nsteps):\n",
        "      A = np.copy(self.B)\n",
        "      C[k] = np.copy(self.B)\n",
        "\n",
        "\n",
        "      #Se guardan las imagenes de la simulacion\n",
        "      self.frames.append(self.plot(C))\n",
        "\n",
        "      if self.name == \"Rule104\":\n",
        "        for i in range(self.size):\n",
        "          if i == 0:\n",
        "            self.B[i] = self.Rule104(A[-1],A[0],A[1]) #Teniamos A[i] en vez de self.B[i]\n",
        "          elif i == self.size - 1:\n",
        "            self.B[i] = self.Rule104(A[-2],A[-1],A[0])\n",
        "          else:\n",
        "            self.B[i] = self.Rule104(A[i-1],A[i],A[i+1])\n",
        "\n",
        "  def save_video(self,filename = \"Automata1D.mp4\", fps = 10):\n",
        "    imageio.mimsave(filename, self.frames, fps = fps)\n",
        "    print(f\"Video Guardado como {filename}\")\n"
      ],
      "metadata": {
        "id": "PxVbk8Pd4waD"
      },
      "execution_count": null,
      "outputs": []
    },
    {
      "cell_type": "code",
      "source": [
        "#Creamos la instancia de clase\n",
        "automata = Automata1D(B, \"Rule104\")\n",
        "automata.Run()\n",
        "automata.save_video(\"Hola mundo.mp4\")"
      ],
      "metadata": {
        "colab": {
          "base_uri": "https://localhost:8080/"
        },
        "id": "wEXKnk9Y40RI",
        "outputId": "5cb2e68b-4918-4959-9956-6e2c7c61e584"
      },
      "execution_count": null,
      "outputs": [
        {
          "output_type": "stream",
          "name": "stderr",
          "text": [
            "<ipython-input-3-d5e1a6707f73>:30: MatplotlibDeprecationWarning: The tostring_rgb function was deprecated in Matplotlib 3.8 and will be removed two minor releases later. Use buffer_rgba instead.\n",
            "  image = np.frombuffer(fig.canvas.tostring_rgb(), dtype = np.uint8)\n",
            "WARNING:imageio_ffmpeg:IMAGEIO FFMPEG_WRITER WARNING: input image is not divisible by macro_block_size=16, resizing from (800, 600) to (800, 608) to ensure video compatibility with most codecs and players. To prevent resizing, make your input image divisible by the macro_block_size or set the macro_block_size to 1 (risking incompatibility).\n"
          ]
        },
        {
          "output_type": "stream",
          "name": "stdout",
          "text": [
            "Video Guardado como Hola mundo.mp4\n"
          ]
        }
      ]
    },
    {
      "cell_type": "markdown",
      "source": [
        "# Juego de la vida"
      ],
      "metadata": {
        "id": "onkaPF3l_EmC"
      }
    },
    {
      "cell_type": "code",
      "source": [
        "# Parametros del modelo\n",
        "size = 103\n",
        "pos = round(size/2)\n",
        "B = np.zeros((size,size), dtype = int)\n",
        "B[pos,:] = 1 # Condicion inicial"
      ],
      "metadata": {
        "id": "dpFieIOs_Hwj"
      },
      "execution_count": 22,
      "outputs": []
    },
    {
      "cell_type": "code",
      "source": [
        "class Automata2D:\n",
        "  def __init__(self,B,name): #Usaremos self ya que hace referencia a si mismo constantemente y name porque definiremos otra clase\n",
        "    self.B = B #Guarda la variable B\n",
        "    self.name = name #Guarda el nombre que se le de o la regla\n",
        "    self.size = len(self.B) #Tamaño\n",
        "    self.frames = [] #Lista donde se guardan las imagenes generadas para hacer la simulacion\n",
        "    self.nsteps = 2*self.size #Cantidad de veces que se hace la linea anterior\n",
        "\n",
        "  def GameLife(self, cell, center):\n",
        "    sum = np.sum(cell)\n",
        "    if center == 1:\n",
        "      if sum == 2 or sum == 3:\n",
        "        return 1\n",
        "      else:\n",
        "        return 0\n",
        "    else:\n",
        "      if sum == 3:\n",
        "        return 1\n",
        "      else:\n",
        "        return 0\n",
        "\n",
        "  def plot(self,C): #Crear la figura de cada paso\n",
        "    fig,ax = plt.subplots(figsize = (8,6))\n",
        "    ax.imshow(C, animated = True, aspect = \"auto\", cmap = \"gray\") #ASpect auto es para que se modifique a si misma\n",
        "    # cmap gray es para que 1 sea blanco y 0 sea negro\n",
        "    ax.axis(\"off\") #Quitamos los ejes\n",
        "    plt.close(fig) #Cerrar el canvas para que no se muestre\n",
        "\n",
        "    #Convertimos la figura en imagen y guardamos los frames\n",
        "    fig.canvas.draw()\n",
        "    image = np.frombuffer(fig.canvas.tostring_rgb(), dtype = np.uint8)\n",
        "    image = image.reshape(fig.canvas.get_width_height()[::-1] + (3,))\n",
        "    return image\n",
        "\n",
        "  def Run(self): #creamos la matriz donde se correrá todo\n",
        "    C = np.zeros((self.size, self.size), dtype = int) #Matriz de pixeles para la simulacion\n",
        "    A = np.copy(self.B) #Vector condicion inicial\n",
        "    for k in range(self.nsteps):\n",
        "      A = np.copy(self.B)\n",
        "      C = np.copy(self.B)\n",
        "\n",
        "\n",
        "      #Se guardan las imagenes de la simulacion\n",
        "      self.frames.append(self.plot(C))\n",
        "\n",
        "      cell = np.zeros(8, dtype = int)\n",
        "      for i in range(2,self.size-1):\n",
        "        for j in range(2,self.size-1):\n",
        "          cell[0] = A[i-1,j-1]; cell[1] = A[i-1,j];\n",
        "          cell[2] = A[i-1,j+1];\n",
        "          cell[3] = A[i,j-1]; cell[4] = A[i,j+1];\n",
        "          cell[5] = A[i+1,j-1]; cell[6] = A[i+1,j];\n",
        "          cell[7] = A[i+1,j+1];\n",
        "\n",
        "          self.B[i,j] = self.GameLife(cell,A[i,j])\n",
        "\n",
        "  def save_video(self,filename = \"Automata1D.mp4\", fps = 10):\n",
        "    imageio.mimsave(filename, self.frames, fps = fps)\n",
        "    print(f\"Video Guardado como {filename}\")"
      ],
      "metadata": {
        "id": "O5pVPoXS_Znz"
      },
      "execution_count": 33,
      "outputs": []
    },
    {
      "cell_type": "code",
      "source": [
        "automata = Automata2D(B, \"GameLife\")\n",
        "automata.Run()\n",
        "automata.save_video(\"Juego de la vida.mp4\")"
      ],
      "metadata": {
        "colab": {
          "base_uri": "https://localhost:8080/"
        },
        "id": "RuLzwls7E0rT",
        "outputId": "0489385f-359e-466d-c2c6-d583a412a54a"
      },
      "execution_count": 34,
      "outputs": [
        {
          "output_type": "stream",
          "name": "stderr",
          "text": [
            "<ipython-input-33-72461a9a1347>:31: MatplotlibDeprecationWarning: The tostring_rgb function was deprecated in Matplotlib 3.8 and will be removed two minor releases later. Use buffer_rgba instead.\n",
            "  image = np.frombuffer(fig.canvas.tostring_rgb(), dtype = np.uint8)\n",
            "WARNING:imageio_ffmpeg:IMAGEIO FFMPEG_WRITER WARNING: input image is not divisible by macro_block_size=16, resizing from (800, 600) to (800, 608) to ensure video compatibility with most codecs and players. To prevent resizing, make your input image divisible by the macro_block_size or set the macro_block_size to 1 (risking incompatibility).\n"
          ]
        },
        {
          "output_type": "stream",
          "name": "stdout",
          "text": [
            "Video Guardado como Juego de la vida.mp4\n"
          ]
        }
      ]
    }
  ]
}