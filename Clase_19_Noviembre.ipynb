{
  "nbformat": 4,
  "nbformat_minor": 0,
  "metadata": {
    "colab": {
      "provenance": [],
      "include_colab_link": true
    },
    "kernelspec": {
      "name": "python3",
      "display_name": "Python 3"
    },
    "language_info": {
      "name": "python"
    }
  },
  "cells": [
    {
      "cell_type": "markdown",
      "metadata": {
        "id": "view-in-github",
        "colab_type": "text"
      },
      "source": [
        "<a href=\"https://colab.research.google.com/github/AlessaOlea/Tareas/blob/main/Clase_19_Noviembre.ipynb\" target=\"_parent\"><img src=\"https://colab.research.google.com/assets/colab-badge.svg\" alt=\"Open In Colab\"/></a>"
      ]
    },
    {
      "cell_type": "code",
      "execution_count": null,
      "metadata": {
        "id": "8VMEGDXalNPG"
      },
      "outputs": [],
      "source": [
        "import numpy as np\n",
        "import matplotlib.pyplot as plt\n",
        "import imageio.v2 as imageio"
      ]
    },
    {
      "cell_type": "code",
      "source": [
        "#Parametros del modelo\n",
        "size = 103\n",
        "pos = round(size/2)\n",
        "B = np.zeros(size,dtype = int)\n",
        "B[pos] = 1 # Condicion inicial"
      ],
      "metadata": {
        "id": "E3-Jjw3bqZGl"
      },
      "execution_count": null,
      "outputs": []
    },
    {
      "source": [
        "import numpy as np\n",
        "import matplotlib.pyplot as plt\n",
        "import imageio.v2 as imageio\n",
        "\n",
        "class Automata1D:\n",
        "    def __init__(self, B, name): # Usaremos self ya que hace referencia a si mismo constantemente y name porque definiremos otra clase\n",
        "        self.B = B # Guarda la variable B\n",
        "        self.name = name # Guarda el nombre que se le de o la regla\n",
        "        self.size = len(self.B) # Tamaño\n",
        "        self.frames = [] # Lista donde se guardan las imágenes generadas para hacer la simulación\n",
        "        self.nsteps = self.size # Cantidad de veces que se hace la línea anterior\n",
        "\n",
        "    def Rule104(self, L, C, R): # Usamos self ya que la clase se hace referencia a si mismo constantemente\n",
        "        # L = Left, C = Central y R = right\n",
        "        # Definimos las reglas de los autómatas\n",
        "        if L == 1 and C == 0 and R == 0:\n",
        "            return 1\n",
        "        elif L == 0 and C == 1 and R == 0:\n",
        "            return 1\n",
        "        elif L == 0 and C == 0 and R == 1:\n",
        "            return 1\n",
        "        else:\n",
        "            return 0\n",
        "\n",
        "    def plot(self,C): # Crear la figura de cada paso\n",
        "        fig,ax = plt.subplots(figsize = (8,6))\n",
        "        ax.imshow(C, animated = True, aspect =  \"auto\", cmap = \"gray\")\n",
        "        ax.axis(\"off\")\n",
        "        plt.close(fig) # Cerrar el canvas, para que no se muestre\n",
        "\n",
        "        # Convertir la figura en imagen y guardar frames\n",
        "        fig.canvas.draw()\n",
        "        image = np.frombuffer(fig.canvas.tostring_rgb(), dtype = np.uint8)\n",
        "        image = image.reshape(fig.canvas.get_width_height()[::-1] + (3,))\n",
        "        return image\n",
        "\n",
        "    def Run(self): # Creamos la matriz donde se correrá todo\n",
        "        C = np.zeros((self.size, self.size), dtype=int)  #\n",
        "        A = np.copy(self.B) # Vector condición inicial\n",
        "        for k in range(self.nsteps):  # Se cambió 'i' a 'k' para que coincida con el uso dentro del bucle\n",
        "            C[k] = np.copy(A) # Copia de la matriz\n",
        "            # Se guardan las imágenes para la simulación\n",
        "            self.frames.append(self.plot(C))\n",
        "\n",
        "            if self.name == \"Rule104\":\n",
        "                for i in range(self.size):\n",
        "                    if i == 0:\n",
        "                        A[i] = self.Rule104(A[-1], A[0], A[1])\n",
        "                    elif i == self.size - 1:\n",
        "                        A[i] = self.Rule104(A[-2], A[-1], A[0])\n",
        "                    else:\n",
        "                        A[i] = self.Rule104(A[i - 1], A[i], A[i + 1])\n",
        "\n",
        "    def save_video(self, filename = \"Hola mundo.mp4\", fps = 10):\n",
        "        imageio.mimsave(filename, self.frames, fps = fps)\n",
        "        print(f\"Video guardado como {filename}\")\n",
        "\n"
      ],
      "cell_type": "code",
      "metadata": {
        "id": "438bjSN_zRIN"
      },
      "execution_count": null,
      "outputs": []
    },
    {
      "cell_type": "code",
      "source": [
        "# Creamos la instancia de clase\n",
        "automata = Automata1D(B, \"Rule104\")\n",
        "automata.Run()\n",
        "automata.save_video(\"Hola mundo.mp4\")"
      ],
      "metadata": {
        "colab": {
          "base_uri": "https://localhost:8080/"
        },
        "id": "vT7c9AOLzd9d",
        "outputId": "a8601d54-9205-4c13-8b2e-e7f6bf75e157"
      },
      "execution_count": null,
      "outputs": [
        {
          "output_type": "stream",
          "name": "stderr",
          "text": [
            "<ipython-input-79-e585c49d3ad8>:33: MatplotlibDeprecationWarning: The tostring_rgb function was deprecated in Matplotlib 3.8 and will be removed two minor releases later. Use buffer_rgba instead.\n",
            "  image = np.frombuffer(fig.canvas.tostring_rgb(), dtype = np.uint8)\n",
            "WARNING:imageio_ffmpeg:IMAGEIO FFMPEG_WRITER WARNING: input image is not divisible by macro_block_size=16, resizing from (800, 600) to (800, 608) to ensure video compatibility with most codecs and players. To prevent resizing, make your input image divisible by the macro_block_size or set the macro_block_size to 1 (risking incompatibility).\n"
          ]
        },
        {
          "output_type": "stream",
          "name": "stdout",
          "text": [
            "Video guardado como Hola mundo.mp4\n"
          ]
        }
      ]
    }
  ]
}