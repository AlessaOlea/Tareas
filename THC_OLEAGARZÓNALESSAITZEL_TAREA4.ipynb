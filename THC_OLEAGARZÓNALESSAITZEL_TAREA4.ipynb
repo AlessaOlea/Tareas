{
  "nbformat": 4,
  "nbformat_minor": 0,
  "metadata": {
    "colab": {
      "provenance": [],
      "authorship_tag": "ABX9TyOVV9MqsSsudNy0ft4RPnhp",
      "include_colab_link": true
    },
    "kernelspec": {
      "name": "python3",
      "display_name": "Python 3"
    },
    "language_info": {
      "name": "python"
    }
  },
  "cells": [
    {
      "cell_type": "markdown",
      "metadata": {
        "id": "view-in-github",
        "colab_type": "text"
      },
      "source": [
        "<a href=\"https://colab.research.google.com/github/AlessaOlea/Tareas/blob/main/THC_OLEAGARZ%C3%93NALESSAITZEL_TAREA4.ipynb\" target=\"_parent\"><img src=\"https://colab.research.google.com/assets/colab-badge.svg\" alt=\"Open In Colab\"/></a>"
      ]
    },
    {
      "cell_type": "markdown",
      "source": [
        "**Tarea 4.**"
      ],
      "metadata": {
        "id": "U4WqCmTWI4IO"
      }
    },
    {
      "cell_type": "code",
      "source": [],
      "metadata": {
        "id": "cjTrj7aLJVC1"
      },
      "execution_count": null,
      "outputs": []
    },
    {
      "cell_type": "markdown",
      "source": [
        "**Pasos:**\n",
        "\n",
        "1.   Solicitar al usuario la cantidad de dólares que quiere convertir.\n",
        "2.   Definir las tasas de cambio para las monedas: pesos mexicanos, euros, ibras esterlinas, yuanes y rublos.\n",
        "3.   Realizar las conversiones utilizando las tasas de cambio fijas.\n",
        "4.   Mostrar los resultados de las conversiones al usuario.\n",
        "\n",
        "\n",
        "\n"
      ],
      "metadata": {
        "id": "AzN-Erg-JMMj"
      }
    },
    {
      "cell_type": "code",
      "execution_count": null,
      "metadata": {
        "colab": {
          "base_uri": "https://localhost:8080/"
        },
        "id": "DCc7SDoBIkwn",
        "outputId": "dd4da5c3-fba6-41f9-eff6-6ec9a1becd12"
      },
      "outputs": [
        {
          "output_type": "stream",
          "name": "stdout",
          "text": [
            "Ingrese la cantidad en dólares a convertir: 54\n",
            "\n",
            "Tasa de cambio utilizada:\n",
            "1 dólar = 17.5 pesos mexicanos\n",
            "1 dólar = 0.85 euros\n",
            "1 dólar = 0.75 libras esterlinas\n",
            "1 dólar = 7.2 yuanes\n",
            "1 dólar = 96.5 rublos\n",
            "\n",
            "Resultados de la conversión:\n",
            "54.0 dólares son 945.00 pesos mexicanos\n",
            "54.0 dólares son 45.90 euros\n",
            "54.0 dólares son 40.50 libras esterlinas\n",
            "54.0 dólares son 388.80 yuanes\n",
            "54.0 dólares son 5211.00 rublos\n"
          ]
        }
      ],
      "source": [
        "# Paso 1: Solicitar la cantidad de dólares al usuario\n",
        "dolares = float(input(\"Ingrese la cantidad en dólares a convertir: \"))\n",
        "\n",
        "# Paso 2: Definir las tasas de cambio fijas (valores de ejemplo)\n",
        "tasa_peso_mexicano = 17.50   # 1 dólar = 17.50 pesos mexicanos\n",
        "tasa_euro = 0.85            # 1 dólar = 0.85 euros\n",
        "tasa_libra = 0.75           # 1 dólar = 0.75 libras esterlinas\n",
        "tasa_yuan = 7.2             # 1 dólar = 7.2 yuanes\n",
        "tasa_rublo = 96.5           # 1 dólar = 96.5 rublos\n",
        "\n",
        "# Paso 3: Realizar las conversiones\n",
        "pesos = dolares * tasa_peso_mexicano\n",
        "euros = dolares * tasa_euro\n",
        "libras = dolares * tasa_libra\n",
        "yuanes = dolares * tasa_yuan\n",
        "rublos = dolares * tasa_rublo\n",
        "\n",
        "# Paso 4: Mostrar los resultados\n",
        "print(f\"\\nTasa de cambio utilizada:\")\n",
        "print(f\"1 dólar = {tasa_peso_mexicano} pesos mexicanos\")\n",
        "print(f\"1 dólar = {tasa_euro} euros\")\n",
        "print(f\"1 dólar = {tasa_libra} libras esterlinas\")\n",
        "print(f\"1 dólar = {tasa_yuan} yuanes\")\n",
        "print(f\"1 dólar = {tasa_rublo} rublos\")\n",
        "\n",
        "print(f\"\\nResultados de la conversión:\")\n",
        "print(f\"{dolares} dólares son {pesos:.2f} pesos mexicanos\")\n",
        "print(f\"{dolares} dólares son {euros:.2f} euros\")\n",
        "print(f\"{dolares} dólares son {libras:.2f} libras esterlinas\")\n",
        "print(f\"{dolares} dólares son {yuanes:.2f} yuanes\")\n",
        "print(f\"{dolares} dólares son {rublos:.2f} rublos\")\n"
      ]
    },
    {
      "cell_type": "markdown",
      "source": [
        "**Ejercicio 2**\n",
        "\n",
        "**Pasos:**\n",
        "\n",
        "1. Solicitar la edad al usuario y asegurarse de que sea un número entero válido.\n",
        "2. Clasificar la edad según los rangos definidos:\n",
        "* Niño: 0 a 12 años.\n",
        "* Adolescente: 13 a 17 años.\n",
        "* Adulto: 18 a 64 años.\n",
        "* Adulto mayor: 65 años o más.\n",
        "\n",
        "3. Mostrar el resultado de la clasificación.\n"
      ],
      "metadata": {
        "id": "w6e75GDJKwmp"
      }
    },
    {
      "cell_type": "code",
      "source": [
        "# Paso 1: Solicitar la edad al usuario y asegurarse de que sea válida\n",
        "while True:  # Ciclo para asegurarse de que el usuario ingrese un valor correcto\n",
        "    try:\n",
        "        edad = int(input(\"Ingrese su edad: \"))\n",
        "        if edad < 0:\n",
        "            print(\"La edad no puede ser negativa. Intente de nuevo.\")\n",
        "        else:\n",
        "            break  # Si se ingresa una edad válida, salimos del ciclo\n",
        "    except ValueError:\n",
        "        print(\"Por favor, ingrese un número entero válido.\")\n",
        "\n",
        "# Paso 2: Clasificar la edad según los rangos\n",
        "if edad <= 12:\n",
        "    categoria = \"niño\"\n",
        "elif 13 <= edad <= 17:\n",
        "    categoria = \"adolescente\"\n",
        "elif 18 <= edad <= 64:\n",
        "    categoria = \"adulto\"\n",
        "else:\n",
        "    categoria = \"adulto mayor\"\n",
        "\n",
        "# Paso 3: Mostrar el resultado\n",
        "print(f\"Tienes {edad} años y estás clasificado como {categoria}.\")\n"
      ],
      "metadata": {
        "colab": {
          "base_uri": "https://localhost:8080/"
        },
        "id": "0cOwpTCBKj7S",
        "outputId": "0fa0fc06-42f8-4ec1-8342-6933a48af539"
      },
      "execution_count": null,
      "outputs": [
        {
          "output_type": "stream",
          "name": "stdout",
          "text": [
            "Ingrese su edad: 17\n",
            "Tienes 17 años y estás clasificado como adolescente.\n"
          ]
        }
      ]
    },
    {
      "cell_type": "markdown",
      "source": [
        "**Ejercicio 3**\n",
        "\n",
        "**Pasos:**\n",
        "\n",
        "1. Solicitar al usuario el precio original del producto y el porcentaje de descuento.\n",
        "2. Validar las entradas para asegurarse de que el precio y el descuento son números válidos.\n",
        "3. Calcular el precio final aplicando el descuento.\n",
        "4. Mostrar el precio final al usuario."
      ],
      "metadata": {
        "id": "2KLxk-4XMGvt"
      }
    },
    {
      "cell_type": "code",
      "source": [
        "# Paso 1: Solicitar el precio original y el porcentaje de descuento al usuario\n",
        "while True:\n",
        "    try:\n",
        "        precio_original = float(input(\"Ingrese el precio original del producto: \"))\n",
        "        if precio_original < 0:\n",
        "            print(\"El precio no puede ser negativo. Intente nuevamente.\")\n",
        "        else:\n",
        "            break\n",
        "    except ValueError:\n",
        "        print(\"Por favor, ingrese un número válido para el precio.\")\n",
        "\n",
        "while True:\n",
        "    try:\n",
        "        porcentaje_descuento = float(input(\"Ingrese el porcentaje de descuento (ejemplo: 20 para 20%): \"))\n",
        "        if porcentaje_descuento < 0 or porcentaje_descuento > 100:\n",
        "            print(\"El porcentaje de descuento debe estar entre 0 y 100. Intente nuevamente.\")\n",
        "        else:\n",
        "            break\n",
        "    except ValueError:\n",
        "        print(\"Por favor, ingrese un número válido para el porcentaje de descuento.\")\n",
        "\n",
        "# Paso 2: Calcular el precio final después de aplicar el descuento\n",
        "descuento = precio_original * (porcentaje_descuento / 100)\n",
        "precio_final = precio_original - descuento\n",
        "\n",
        "# Paso 3: Mostrar el precio final al usuario\n",
        "print(f\"\\nEl precio original es: ${precio_original:.2f}\")\n",
        "print(f\"El porcentaje de descuento es: {porcentaje_descuento}%\")\n",
        "print(f\"El monto del descuento es: ${descuento:.2f}\")\n",
        "print(f\"El precio final del producto es: ${precio_final:.2f}\")\n"
      ],
      "metadata": {
        "id": "6_q-1owyMYKX",
        "colab": {
          "base_uri": "https://localhost:8080/"
        },
        "outputId": "e792aea2-c0ad-4d06-9f67-179f56d35ee7"
      },
      "execution_count": null,
      "outputs": [
        {
          "output_type": "stream",
          "name": "stdout",
          "text": [
            "Ingrese el precio original del producto: 300\n",
            "Ingrese el porcentaje de descuento (ejemplo: 20 para 20%): 50\n",
            "\n",
            "El precio original es: $300.00\n",
            "El porcentaje de descuento es: 50.0%\n",
            "El monto del descuento es: $150.00\n",
            "El precio final del producto es: $150.00\n"
          ]
        }
      ]
    },
    {
      "cell_type": "markdown",
      "source": [
        "**Ejercicio 4**\n",
        "\n",
        "**Pasos:**\n",
        "\n",
        "1. Solicitar tres números al usuario.\n",
        "2. Comparar los números utilizando if, elif y else.\n",
        "3. Mostrar el número mayor al usuario."
      ],
      "metadata": {
        "id": "ThUc_4S5M-Hk"
      }
    },
    {
      "cell_type": "code",
      "source": [
        "# Solicitar los tres números al usuario\n",
        "numero1 = float(input(\"Ingrese el primer número: \"))\n",
        "numero2 = float(input(\"Ingrese el segundo número: \"))\n",
        "numero3 = float(input(\"Ingrese el tercer número: \"))\n",
        "\n",
        "# Comparar y determinar el mayor\n",
        "if numero1 >= numero2 and numero1 >= numero3:\n",
        "    mayor = numero1\n",
        "elif numero2 >= numero1 and numero2 >= numero3:\n",
        "    mayor = numero2\n",
        "else:\n",
        "    mayor = numero3\n",
        "\n",
        "# Mostrar el resultado\n",
        "print(f\"El número mayor es: {mayor}\")\n"
      ],
      "metadata": {
        "id": "T5QPDT-XOHc7"
      },
      "execution_count": null,
      "outputs": []
    },
    {
      "cell_type": "markdown",
      "source": [
        "**Ejercicio 5**\n",
        "\n",
        "**Pasos:**\n",
        "\n",
        "1. Definir una función que tome los valores de a, b y c.\n",
        "\n",
        "\n",
        "2. Calcular el discriminante (b^2 - 4ac).\n",
        "\n",
        "\n",
        "3. Determinar el tipo de soluciones (reales o complejas) según el valor del discriminante.\n",
        "\n",
        "\n",
        "4. Calcular las soluciones usando la fórmula general.\n",
        "\n",
        "\n",
        "5. Imprimir los resultados."
      ],
      "metadata": {
        "id": "CPFED601UtDj"
      }
    },
    {
      "cell_type": "code",
      "source": [
        "import cmath  # Para manejar números complejos\n",
        "\n",
        "def resolver_ecuacion_cuadratica(a, b, c):\n",
        "    # Calcular el discriminante\n",
        "    discriminante = b**2 - 4 * a * c\n",
        "\n",
        "    # Determinar el tipo de soluciones\n",
        "    if discriminante > 0:\n",
        "        # Soluciones reales\n",
        "        raiz1 = (-b + cmath.sqrt(discriminante)) / (2 * a)\n",
        "        raiz2 = (-b - cmath.sqrt(discriminante)) / (2 * a)\n",
        "        print(f\"Las soluciones son reales: {raiz1.real:.2f} y {raiz2.real:.2f}\")\n",
        "    elif discriminante == 0:\n",
        "        # Una solución real doble\n",
        "        raiz = -b / (2 * a)\n",
        "        print(f\"Hay una única solución real: {raiz:.2f}\")\n",
        "    else:\n",
        "        # Soluciones complejas\n",
        "        raiz1 = (-b + cmath.sqrt(discriminante)) / (2 * a)\n",
        "        raiz2 = (-b - cmath.sqrt(discriminante)) / (2 * a)\n",
        "        print(f\"Las soluciones son complejas: {raiz1} y {raiz2}\")\n",
        "\n",
        "# Solicitar los valores de a, b y c al usuario\n",
        "a = float(input(\"Ingrese el valor de a: \"))\n",
        "b = float(input(\"Ingrese el valor de b: \"))\n",
        "c = float(input(\"Ingrese el valor de c: \"))\n",
        "\n",
        "# Llamar a la función para resolver la ecuación\n",
        "resolver_ecuacion_cuadratica(a, b, c)"
      ],
      "metadata": {
        "id": "91_9KNEBVPuF"
      },
      "execution_count": null,
      "outputs": []
    },
    {
      "cell_type": "markdown",
      "source": [
        "**Ejercicio 5**\n",
        "\n",
        "**Pasos:**\n",
        "\n",
        "1. Definir una función que tome una lista de números.\n",
        "\n",
        "\n",
        "2. Crear dos listas vacías para almacenar números positivos y negativos.\n",
        "\n",
        "\n",
        "3. Iterar sobre la lista y clasificar cada número como positivo o negativo.\n",
        "\n",
        "\n",
        "4. Devolver las dos listas."
      ],
      "metadata": {
        "id": "PZX9PZguVvXN"
      }
    },
    {
      "cell_type": "code",
      "source": [
        "def separar_numeros(lista):\n",
        "    positivos = []\n",
        "    negativos = []\n",
        "\n",
        "    # Clasificar los números\n",
        "    for numero in lista:\n",
        "        if numero >= 0:\n",
        "            positivos.append(numero)\n",
        "        else:\n",
        "            negativos.append(numero)\n",
        "\n",
        "    return positivos, negativos\n",
        "\n",
        "# Ejemplo de uso\n",
        "numeros = [3, -1, 5, -7, 2, -3, 8]\n",
        "positivos, negativos = separar_numeros(numeros)\n",
        "print(f\"Números positivos: {positivos}\")\n",
        "print(f\"Números negativos: {negativos}\")"
      ],
      "metadata": {
        "id": "kqrfFEFbWAfK"
      },
      "execution_count": null,
      "outputs": []
    },
    {
      "cell_type": "markdown",
      "source": [
        "**Ejercicio 7**\n",
        "\n",
        "**Pasos:**\n",
        "\n",
        "1. Definir una función que tome una lista de datos.\n",
        "\n",
        "\n",
        "2. Crear listas vacías para cada tipo de dato.\n",
        "\n",
        "\n",
        "3. Iterar sobre la lista y usar isinstance() para verificar el tipo de cada elemento.\n",
        "\n",
        "\n",
        "4. Agregar cada elemento a la lista correspondiente.\n",
        "\n",
        "\n",
        "5. Retornar las listas con los datos separados."
      ],
      "metadata": {
        "id": "GhaKIZtMWEk7"
      }
    },
    {
      "cell_type": "code",
      "source": [
        "def filtrar_por_tipo(datos):\n",
        "    enteros = []\n",
        "    cadenas = []\n",
        "    booleanos = []\n",
        "    flotantes = []\n",
        "\n",
        "    # Clasificar los elementos por tipo\n",
        "    for dato in datos:\n",
        "        if isinstance(dato, int):\n",
        "            enteros.append(dato)\n",
        "        elif isinstance(dato, str):\n",
        "            cadenas.append(dato)\n",
        "        elif isinstance(dato, bool):\n",
        "            booleanos.append(dato)\n",
        "        elif isinstance(dato, float):\n",
        "            flotantes.append(dato)\n",
        "\n",
        "    return enteros, cadenas, booleanos, flotantes\n",
        "\n",
        "# Lista de datos para el ejemplo\n",
        "datos = [5, 2.4, \"hola\", 7, 10, 3.14, True, False, \"Hi\", 0, 0.265]\n",
        "enteros, cadenas, booleanos, flotantes = filtrar_por_tipo(datos)\n",
        "\n",
        "print(f\"Enteros: {enteros}\")\n",
        "print(f\"Cadenas: {cadenas}\")\n",
        "print(f\"Booleanos: {booleanos}\")\n",
        "print(f\"Flotantes: {flotantes}\")"
      ],
      "metadata": {
        "id": "u11llcC7WfV-"
      },
      "execution_count": null,
      "outputs": []
    },
    {
      "cell_type": "markdown",
      "source": [
        "**Ejercicio 8**\n",
        "\n",
        "**Pasos:**\n",
        "\n",
        "1. Definir una función que tome un número entero (niveles) como argumento.\n",
        "\n",
        "\n",
        "2. Usar un bucle para imprimir la pirámide, incrementando los asteriscos en cada nivel.\n",
        "\n",
        "\n",
        "3. Mostrar la pirámide en pantalla."
      ],
      "metadata": {
        "id": "ULVBRGxBWqHs"
      }
    },
    {
      "cell_type": "code",
      "source": [
        "def piramide_asteriscos(niveles):\n",
        "    # Generar la pirámide\n",
        "    for i in range(1, niveles + 1):\n",
        "        print(\"*\" * i)\n",
        "\n",
        "# Solicitar el número de niveles al usuario\n",
        "niveles = int(input(\"Ingrese el número de niveles para la pirámide: \"))\n",
        "piramide_asteriscos(niveles)"
      ],
      "metadata": {
        "id": "G48_VKd2XArK"
      },
      "execution_count": null,
      "outputs": []
    },
    {
      "cell_type": "markdown",
      "source": [
        "**Ejercicio 9**\n",
        "\n",
        "**Pasos:**\n",
        "\n",
        "1. Solicitar un número al usuario y validar que sea un entero mayor o igual a cero.\n",
        "\n",
        "\n",
        "2. Calcular el factorial usando un bucle.\n",
        "\n",
        "\n",
        "3. Mostrar el resultado."
      ],
      "metadata": {
        "id": "kbbF6nrPXbM7"
      }
    },
    {
      "cell_type": "code",
      "source": [
        "def calcular_factorial():\n",
        "    while True:\n",
        "        try:\n",
        "            numero = int(input(\"Ingrese un número natural para calcular su factorial: \"))\n",
        "            if numero < 0:\n",
        "                print(\"El número debe ser un entero no negativo. Intente de nuevo.\")\n",
        "            else:\n",
        "                break\n",
        "        except ValueError:\n",
        "            print(\"Por favor, ingrese un número entero válido.\")\n",
        "\n",
        "    factorial = 1\n",
        "    for i in range(1, numero + 1):\n",
        "        factorial *= i\n",
        "\n",
        "    print(f\"El factorial de {numero} es: {factorial}\")\n",
        "\n",
        "# Llamar a la función\n",
        "calcular_factorial()"
      ],
      "metadata": {
        "id": "Z-lFpvlyXojQ"
      },
      "execution_count": null,
      "outputs": []
    },
    {
      "cell_type": "markdown",
      "source": [
        "**Ejercicio 10**\n",
        "\n",
        "**Pasos:**\n",
        "\n",
        "1. Solicitar las coordenadas de los dos puntos al usuario.\n",
        "\n",
        "\n",
        "2. Calcular la distancia usando la fórmula .\n",
        "\n",
        "\n",
        "3. Mostrar el resultado."
      ],
      "metadata": {
        "id": "8JdKJfseXrjA"
      }
    },
    {
      "cell_type": "code",
      "source": [
        "import math\n",
        "\n",
        "def calcular_distancia(x1, y1, x2, y2):\n",
        "    distancia = math.sqrt((x2 - x1)**2 + (y2 - y1)**2)\n",
        "    return distancia\n",
        "\n",
        "# Solicitar las coordenadas\n",
        "x1 = float(input(\"Ingrese la coordenada x1: \"))\n",
        "y1 = float(input(\"Ingrese la coordenada y1: \"))\n",
        "x2 = float(input(\"Ingrese la coordenada x2: \"))\n",
        "y2 = float(input(\"Ingrese la coordenada y2: \"))\n",
        "\n",
        "# Calcular y mostrar la distancia\n",
        "distancia = calcular_distancia(x1, y1, x2, y2)\n",
        "print(f\"La distancia entre los puntos ({x1}, {y1}) y ({x2}, {y2}) es: {distancia:.2f}\")"
      ],
      "metadata": {
        "id": "cL7fr6KLX3V-"
      },
      "execution_count": null,
      "outputs": []
    },
    {
      "cell_type": "markdown",
      "source": [
        "**Ejercicio 11**\n",
        "\n",
        "**Pasos:**\n",
        "1. Solicitar los valores de las pendientes (m1 y m2) y las ordenadas al origen (b1 y b2).\n",
        "\n",
        "\n",
        "2. Determinar el tipo de relación entre las rectas usando if y else.\n",
        "\n",
        "\n",
        "3. Mostrar el resultado."
      ],
      "metadata": {
        "id": "YhcJpmWfX69o"
      }
    },
    {
      "cell_type": "code",
      "source": [
        "def tipo_de_rectas(m1, b1, m2, b2):\n",
        "    if m1 == m2:\n",
        "        if b1 == b2:\n",
        "            return \"Las rectas son coincidentes.\"\n",
        "        else:\n",
        "            return \"Las rectas son paralelas.\"\n",
        "    else:\n",
        "        return \"Las rectas se intersectan.\"\n",
        "\n",
        "# Solicitar valores al usuario\n",
        "m1 = float(input(\"Ingrese la pendiente m1 de la primera recta: \"))\n",
        "b1 = float(input(\"Ingrese la ordenada al origen b1 de la primera recta: \"))\n",
        "m2 = float(input(\"Ingrese la pendiente m2 de la segunda recta: \"))\n",
        "b2 = float(input(\"Ingrese la ordenada al origen b2 de la segunda recta: \"))\n",
        "\n",
        "# Determinar y mostrar el tipo de relación entre las rectas\n",
        "resultado = tipo_de_rectas(m1, b1, m2, b2)\n",
        "print(resultado)"
      ],
      "metadata": {
        "id": "6N3qyKnaYJZK"
      },
      "execution_count": null,
      "outputs": []
    },
    {
      "cell_type": "markdown",
      "source": [
        "**Ejercicio 12**\n",
        "\n",
        "**Objetivo:** Programar un juego de dados para Iván y Miguel con reglas específicas.\n",
        "\n",
        "**Reglas del juego:**\n",
        "\n",
        "Si el dado muestra 1, lanzan de nuevo.\n",
        "\n",
        "Si el dado muestra 6, quedan empatados.\n",
        "\n",
        "Si el dado muestra 2 o 3, gana Iván.\n",
        "\n",
        "Si el dado muestra 4 o 5, gana Miguel.\n",
        "\n",
        "\n",
        "**Pasos:**\n",
        "\n",
        "1. Usar la librería random para simular el lanzamiento del dado.\n",
        "\n",
        "\n",
        "2. Implementar un ciclo while para repetir el lanzamiento en caso de obtener un 1.\n",
        "\n",
        "\n",
        "3. Determinar el ganador o si empatan según las reglas."
      ],
      "metadata": {
        "id": "uyL58SQpYS6h"
      }
    },
    {
      "cell_type": "code",
      "source": [
        "import random\n",
        "\n",
        "def juego_dados():\n",
        "    while True:\n",
        "        dado = random.randint(1, 6)  # Simular lanzamiento del dado\n",
        "        print(f\"El dado muestra: {dado}\")\n",
        "\n",
        "        if dado == 1:\n",
        "            print(\"Resultado 1: Lanzan de nuevo.\")\n",
        "            continue\n",
        "        elif dado == 6:\n",
        "            print(\"Resultado 6: Empate entre Iván y Miguel.\")\n",
        "        elif dado == 2 or dado == 3:\n",
        "            print(\"Resultado 2 o 3: Gana Iván.\")\n",
        "        else:\n",
        "            print(\"Resultado 4 o 5: Gana Miguel.\")\n",
        "\n",
        "        # Terminar el juego después de un resultado válido (sin 1)\n",
        "        break\n",
        "\n",
        "# Iniciar el juego\n",
        "juego_dados()"
      ],
      "metadata": {
        "id": "7ZxhgBCtYwVK"
      },
      "execution_count": null,
      "outputs": []
    }
  ]
}