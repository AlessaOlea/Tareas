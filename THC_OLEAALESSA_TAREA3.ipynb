{
  "nbformat": 4,
  "nbformat_minor": 0,
  "metadata": {
    "colab": {
      "provenance": [],
      "authorship_tag": "ABX9TyPQ90JZDHV942gWXiuiTAAM",
      "include_colab_link": true
    },
    "kernelspec": {
      "name": "python3",
      "display_name": "Python 3"
    },
    "language_info": {
      "name": "python"
    }
  },
  "cells": [
    {
      "cell_type": "markdown",
      "metadata": {
        "id": "view-in-github",
        "colab_type": "text"
      },
      "source": [
        "<a href=\"https://colab.research.google.com/github/AlessaOlea/Tareas/blob/main/THC_OLEAALESSA_TAREA3.ipynb\" target=\"_parent\"><img src=\"https://colab.research.google.com/assets/colab-badge.svg\" alt=\"Open In Colab\"/></a>"
      ]
    },
    {
      "cell_type": "code",
      "execution_count": 2,
      "metadata": {
        "colab": {
          "base_uri": "https://localhost:8080/"
        },
        "id": "M7Bh7sq_cOhZ",
        "outputId": "a28b2721-6811-489b-f6f7-6273418a837a"
      },
      "outputs": [
        {
          "output_type": "stream",
          "name": "stdout",
          "text": [
            "Ingresa el primer número: 34\n",
            "Ingresa el segundo número: 12\n",
            "Suma: 46.0\n",
            "Resta: 22.0\n",
            "Multiplicación: 408.0\n",
            "División: 2.8333333333333335\n"
          ]
        }
      ],
      "source": [
        "#1. Calculadora simple\n",
        "\n",
        "# Solicitar números al usuario\n",
        "num1 = float(input(\"Ingresa el primer número: \"))\n",
        "num2 = float(input(\"Ingresa el segundo número: \"))\n",
        "\n",
        "# Operaciones básicas\n",
        "print(\"Suma:\", num1 + num2)\n",
        "print(\"Resta:\", num1 - num2)\n",
        "print(\"Multiplicación:\", num1 * num2)\n",
        "if num2 != 0:\n",
        "    print(\"División:\", num1 / num2)\n",
        "else:\n",
        "    print(\"No se puede dividir por cero\")\n"
      ]
    },
    {
      "cell_type": "code",
      "source": [
        "# 2. Conversión de Temperaturas\n",
        "\n",
        "# Solicitar la temperatura en Celsius\n",
        "celsius = float(input(\"Ingresa la temperatura en grados Celsius: \"))\n",
        "\n",
        "# Fórmula de conversión a Fahrenheit\n",
        "fahrenheit = (celsius * 9/5) + 32\n",
        "\n",
        "# Resultado\n",
        "print(\"La temperatura en Fahrenheit es:\", fahrenheit)\n"
      ],
      "metadata": {
        "colab": {
          "base_uri": "https://localhost:8080/"
        },
        "id": "ZTMyTz81cxc0",
        "outputId": "326cfe48-7e27-4978-b131-348f53c225cb"
      },
      "execution_count": 3,
      "outputs": [
        {
          "output_type": "stream",
          "name": "stdout",
          "text": [
            "Ingresa la temperatura en grados Celsius: 36\n",
            "La temperatura en Fahrenheit es: 96.8\n"
          ]
        }
      ]
    },
    {
      "cell_type": "code",
      "source": [
        "# 4. Contador de Palabras\n",
        "\n",
        "# Solicitar una cadena de texto\n",
        "texto = input(\"Ingresa una cadena de texto: \")\n",
        "\n",
        "# Contar las palabras\n",
        "num_palabras = len(texto.split())\n",
        "\n",
        "# Mostrar resultado\n",
        "print(\"El número de palabras en la cadena es:\", num_palabras)\n"
      ],
      "metadata": {
        "colab": {
          "base_uri": "https://localhost:8080/"
        },
        "id": "Xn4N9b5hdG1s",
        "outputId": "8b5d6fbc-2c2b-40a6-b3b1-8fbf6560401b"
      },
      "execution_count": 4,
      "outputs": [
        {
          "output_type": "stream",
          "name": "stdout",
          "text": [
            "Ingresa una cadena de texto: palabra\n",
            "El número de palabras en la cadena es: 1\n"
          ]
        }
      ]
    },
    {
      "cell_type": "code",
      "source": [
        "# Cálculo del Promedio\n",
        "\n",
        "# Solicitar una lista de números separados por comas\n",
        "numeros = input(\"Ingresa una lista de números separados por comas: \")\n",
        "\n",
        "# Convertir la entrada en una lista de números\n",
        "lista_numeros = numeros.split(',')\n",
        "suma = 0\n",
        "for numero in lista_numeros:\n",
        "    suma += float(numero)\n",
        "\n",
        "# Calcular el promedio\n",
        "promedio = suma / len(lista_numeros)\n",
        "\n",
        "# Mostrar el resultado\n",
        "print(\"El promedio de los números es:\", promedio)\n"
      ],
      "metadata": {
        "id": "5CI7FnzWdePI"
      },
      "execution_count": null,
      "outputs": []
    },
    {
      "cell_type": "code",
      "source": [
        "# 10. Registro de Estudiantes\n",
        "\n",
        "# Solicitar el número de estudiantes\n",
        "num_estudiantes = int(input(\"¿Cuántos estudiantes vas a registrar? \"))\n",
        "\n",
        "nombres = []\n",
        "calificaciones = []\n",
        "\n",
        "# Registro de estudiantes\n",
        "for i in range(num_estudiantes):\n",
        "    nombre = input(f\"Ingresa el nombre del estudiante {i+1}: \")\n",
        "    calificacion = float(input(f\"Ingresa la calificación de {nombre}: \"))\n",
        "    nombres.append(nombre)\n",
        "    calificaciones.append(calificacion)\n",
        "\n",
        "# Mostrar estudiantes y calcular el promedio\n",
        "suma_calificaciones = 0\n",
        "for i in range(num_estudiantes):\n",
        "    print(f\"Estudiante: {nombres[i]}, Calificación: {calificaciones[i]}\")\n",
        "    suma_calificaciones += calificaciones[i]\n",
        "\n",
        "promedio = suma_calificaciones / num_estudiantes\n",
        "print(\"El promedio de las calificaciones es:\", promedio)\n"
      ],
      "metadata": {
        "colab": {
          "base_uri": "https://localhost:8080/"
        },
        "id": "qppjwFRodpG4",
        "outputId": "10ddfe78-d0b3-411a-bf15-7f5a8ecf92bd"
      },
      "execution_count": 6,
      "outputs": [
        {
          "output_type": "stream",
          "name": "stdout",
          "text": [
            "¿Cuántos estudiantes vas a registrar? 3\n",
            "Ingresa el nombre del estudiante 1: Ale\n",
            "Ingresa la calificación de Ale: 10\n",
            "Ingresa el nombre del estudiante 2: Samu\n",
            "Ingresa la calificación de Samu: 5\n",
            "Ingresa el nombre del estudiante 3: Mel\n",
            "Ingresa la calificación de Mel: 8\n",
            "Estudiante: Ale, Calificación: 10.0\n",
            "Estudiante: Samu, Calificación: 5.0\n",
            "Estudiante: Mel, Calificación: 8.0\n",
            "El promedio de las calificaciones es: 7.666666666666667\n"
          ]
        }
      ]
    },
    {
      "cell_type": "code",
      "source": [
        "# EJERCICIO 2. Comentarios Descriptivos\n",
        "\n",
        "import math  # Importamos la biblioteca math para utilizar el valor de pi\n",
        "\n",
        "# Solicitar al usuario el radio del círculo\n",
        "radio = float(input(\"Ingresa el radio del círculo: \"))\n",
        "\n",
        "# Calcular el área del círculo usando la fórmula: área = pi * radio^2\n",
        "area = math.pi * radio**2\n",
        "\n",
        "# Calcular el perímetro (circunferencia) usando la fórmula: perímetro = 2 * pi * radio\n",
        "perimetro = 2 * math.pi * radio\n",
        "\n",
        "# Mostrar los resultados del área y el perímetro\n",
        "print(\"El área del círculo es:\", round(area, 2))\n",
        "print(\"El perímetro del círculo es:\", round(perimetro, 2))"
      ],
      "metadata": {
        "colab": {
          "base_uri": "https://localhost:8080/"
        },
        "id": "S0bUWQZOfdMD",
        "outputId": "0db1fb97-d131-4304-8257-ddd2ca7a6e9e"
      },
      "execution_count": 8,
      "outputs": [
        {
          "output_type": "stream",
          "name": "stdout",
          "text": [
            "Ingresa el radio del círculo: 5\n",
            "El área del círculo es: 78.54\n",
            "El perímetro del círculo es: 31.42\n"
          ]
        }
      ]
    },
    {
      "cell_type": "code",
      "source": [
        "# Ejercicio 3: Comentarios Informativos\n",
        "\n",
        "# Este programa calcula el monto de la propina basado en el costo total de la comida y el porcentaje de propina elegido\n",
        "\n",
        "# Solicitar al usuario el costo total de la comida\n",
        "costo_comida = float(input(\"Ingresa el costo total de la comida: \"))\n",
        "\n",
        "# Solicitar al usuario el porcentaje de propina que desea dejar (por ejemplo, 15 para 15%)\n",
        "porcentaje_propina = float(input(\"Ingresa el porcentaje de propina que deseas dejar: \"))\n",
        "\n",
        "# Convertir el porcentaje de propina a decimal (dividiendo por 100)\n",
        "# Para un 15% se convertirá en 0.15\n",
        "porcentaje_decimal = porcentaje_propina / 100\n",
        "\n",
        "# Calcular el monto de la propina multiplicando el costo de la comida por el porcentaje decimal\n",
        "monto_propina = costo_comida * porcentaje_decimal\n",
        "\n",
        "# Calcular el total a pagar sumando el costo de la comida y la propina\n",
        "total_pagar = costo_comida + monto_propina\n",
        "\n",
        "# Mostrar el monto de la propina y el total a pagar\n",
        "print(\"La propina será de:\", round(monto_propina, 2), \"MX\")\n",
        "print(\"El total a pagar será de:\", round(total_pagar, 2), \"MX\")"
      ],
      "metadata": {
        "colab": {
          "base_uri": "https://localhost:8080/"
        },
        "id": "SgWliWiyj_GK",
        "outputId": "c1c17bc2-82e2-403b-a4df-ed05953d79eb"
      },
      "execution_count": 11,
      "outputs": [
        {
          "output_type": "stream",
          "name": "stdout",
          "text": [
            "Ingresa el costo total de la comida: 675\n",
            "Ingresa el porcentaje de propina que deseas dejar: 5\n",
            "La propina será de: 33.75 MX\n",
            "El total a pagar será de: 708.75 MX\n"
          ]
        }
      ]
    },
    {
      "cell_type": "code",
      "source": [
        "# Ejercicio 6: Creación de un Programa con Comentarios de Uso\n",
        "\n",
        "# Este programa permite calcular la calificación final de un estudiante\n",
        "# El usuario (profesor) debe ingresar las calificaciones de 3 evaluaciones:\n",
        "# - Parcial (30% del total)\n",
        "# - Final (50% del total)\n",
        "# - Proyecto (20% del total)\n",
        "# Luego, el programa calculará la calificación final ponderada y la mostrará\n",
        "\n",
        "# Solicitar al profesor la calificación del examen parcial (30%)\n",
        "calificacion_parcial = float(input(\"Ingresa la calificación del examen parcial (sobre 100): \"))\n",
        "\n",
        "# Solicitar la calificación del examen final (50%)\n",
        "calificacion_final = float(input(\"Ingresa la calificación del examen final (sobre 100): \"))\n",
        "\n",
        "# Solicitar la calificación del proyecto (20%)\n",
        "calificacion_proyecto = float(input(\"Ingresa la calificación del proyecto (sobre 100): \"))\n",
        "\n",
        "# Calcular la calificación final ponderada\n",
        "# Multiplicamos cada calificación por su respectivo peso y sumamos los resultados\n",
        "calificacion_total = (calificacion_parcial * 0.3) + (calificacion_final * 0.5) + (calificacion_proyecto * 0.2)\n",
        "\n",
        "# Mostrar el resultado final\n",
        "print(\"La calificación final del estudiante es:\", round(calificacion_total, 2))\n"
      ],
      "metadata": {
        "colab": {
          "base_uri": "https://localhost:8080/"
        },
        "id": "FSUcPTqglfTu",
        "outputId": "9827c4f0-89d3-4f31-9991-a16b4637b60e"
      },
      "execution_count": 9,
      "outputs": [
        {
          "output_type": "stream",
          "name": "stdout",
          "text": [
            "Ingresa la calificación del examen parcial (sobre 100): 25\n",
            "Ingresa la calificación del examen final (sobre 100): 56\n",
            "Ingresa la calificación del proyecto (sobre 100): 76\n",
            "La calificación final del estudiante es: 50.7\n"
          ]
        }
      ]
    }
  ]
}